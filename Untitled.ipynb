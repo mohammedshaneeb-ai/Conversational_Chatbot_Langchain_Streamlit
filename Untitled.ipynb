{
 "cells": [
  {
   "cell_type": "code",
   "execution_count": 3,
   "id": "c4405657",
   "metadata": {},
   "outputs": [],
   "source": [
    "!pip install  langchain openai -q"
   ]
  },
  {
   "cell_type": "code",
   "execution_count": 4,
   "id": "de1e5d71",
   "metadata": {
    "collapsed": true
   },
   "outputs": [
    {
     "name": "stdout",
     "output_type": "stream",
     "text": [
      "Collecting sentence_transformers\n",
      "  Using cached sentence-transformers-2.2.2.tar.gz (85 kB)\n",
      "  Preparing metadata (setup.py) ... \u001b[?25ldone\n",
      "\u001b[?25hRequirement already satisfied: transformers<5.0.0,>=4.6.0 in /home/mohammed_shaneeb/anaconda3/lib/python3.9/site-packages (from sentence_transformers) (4.29.2)\n",
      "Requirement already satisfied: tqdm in /home/mohammed_shaneeb/anaconda3/lib/python3.9/site-packages (from sentence_transformers) (4.65.0)\n",
      "Requirement already satisfied: torch>=1.6.0 in /home/mohammed_shaneeb/anaconda3/lib/python3.9/site-packages (from sentence_transformers) (2.0.1)\n",
      "Requirement already satisfied: torchvision in /home/mohammed_shaneeb/anaconda3/lib/python3.9/site-packages (from sentence_transformers) (0.15.2a0)\n",
      "Requirement already satisfied: numpy in /home/mohammed_shaneeb/anaconda3/lib/python3.9/site-packages (from sentence_transformers) (1.23.5)\n",
      "Requirement already satisfied: scikit-learn in /home/mohammed_shaneeb/anaconda3/lib/python3.9/site-packages (from sentence_transformers) (1.3.0)\n",
      "Requirement already satisfied: scipy in /home/mohammed_shaneeb/anaconda3/lib/python3.9/site-packages (from sentence_transformers) (1.10.1)\n",
      "Requirement already satisfied: nltk in /home/mohammed_shaneeb/anaconda3/lib/python3.9/site-packages (from sentence_transformers) (3.5)\n",
      "Collecting sentencepiece (from sentence_transformers)\n",
      "  Downloading sentencepiece-0.1.99-cp39-cp39-manylinux_2_17_x86_64.manylinux2014_x86_64.whl (1.3 MB)\n",
      "\u001b[2K     \u001b[38;2;114;156;31m━━━━━━━━━━━━━━━━━━━━━━━━━━━━━━━━━━━━━━━━\u001b[0m \u001b[32m1.3/1.3 MB\u001b[0m \u001b[31m2.6 MB/s\u001b[0m eta \u001b[36m0:00:00\u001b[0m[31m2.7 MB/s\u001b[0m eta \u001b[36m0:00:01\u001b[0m\n",
      "\u001b[?25hRequirement already satisfied: huggingface-hub>=0.4.0 in /home/mohammed_shaneeb/anaconda3/lib/python3.9/site-packages (from sentence_transformers) (0.15.1)\n",
      "Requirement already satisfied: filelock in /home/mohammed_shaneeb/anaconda3/lib/python3.9/site-packages (from huggingface-hub>=0.4.0->sentence_transformers) (3.9.0)\n",
      "Requirement already satisfied: fsspec in /home/mohammed_shaneeb/anaconda3/lib/python3.9/site-packages (from huggingface-hub>=0.4.0->sentence_transformers) (2023.4.0)\n",
      "Requirement already satisfied: requests in /home/mohammed_shaneeb/anaconda3/lib/python3.9/site-packages (from huggingface-hub>=0.4.0->sentence_transformers) (2.31.0)\n",
      "Requirement already satisfied: pyyaml>=5.1 in /home/mohammed_shaneeb/anaconda3/lib/python3.9/site-packages (from huggingface-hub>=0.4.0->sentence_transformers) (6.0)\n",
      "Requirement already satisfied: typing-extensions>=3.7.4.3 in /home/mohammed_shaneeb/anaconda3/lib/python3.9/site-packages (from huggingface-hub>=0.4.0->sentence_transformers) (4.7.1)\n",
      "Requirement already satisfied: packaging>=20.9 in /home/mohammed_shaneeb/.local/lib/python3.9/site-packages (from huggingface-hub>=0.4.0->sentence_transformers) (23.0)\n",
      "Requirement already satisfied: sympy in /home/mohammed_shaneeb/anaconda3/lib/python3.9/site-packages (from torch>=1.6.0->sentence_transformers) (1.11.1)\n",
      "Requirement already satisfied: networkx in /home/mohammed_shaneeb/anaconda3/lib/python3.9/site-packages (from torch>=1.6.0->sentence_transformers) (3.1)\n",
      "Requirement already satisfied: jinja2 in /home/mohammed_shaneeb/anaconda3/lib/python3.9/site-packages (from torch>=1.6.0->sentence_transformers) (3.1.2)\n",
      "Requirement already satisfied: regex!=2019.12.17 in /home/mohammed_shaneeb/anaconda3/lib/python3.9/site-packages (from transformers<5.0.0,>=4.6.0->sentence_transformers) (2022.7.9)\n",
      "Requirement already satisfied: tokenizers!=0.11.3,<0.14,>=0.11.1 in /home/mohammed_shaneeb/anaconda3/lib/python3.9/site-packages (from transformers<5.0.0,>=4.6.0->sentence_transformers) (0.13.2)\n",
      "Requirement already satisfied: click in /home/mohammed_shaneeb/anaconda3/lib/python3.9/site-packages (from nltk->sentence_transformers) (8.1.6)\n",
      "Requirement already satisfied: joblib in /home/mohammed_shaneeb/anaconda3/lib/python3.9/site-packages (from nltk->sentence_transformers) (1.2.0)\n",
      "Requirement already satisfied: threadpoolctl>=2.0.0 in /home/mohammed_shaneeb/anaconda3/lib/python3.9/site-packages (from scikit-learn->sentence_transformers) (2.2.0)\n",
      "Requirement already satisfied: pillow!=8.3.*,>=5.3.0 in /home/mohammed_shaneeb/anaconda3/lib/python3.9/site-packages (from torchvision->sentence_transformers) (9.4.0)\n",
      "Requirement already satisfied: MarkupSafe>=2.0 in /home/mohammed_shaneeb/anaconda3/lib/python3.9/site-packages (from jinja2->torch>=1.6.0->sentence_transformers) (2.1.1)\n",
      "Requirement already satisfied: charset-normalizer<4,>=2 in /home/mohammed_shaneeb/anaconda3/lib/python3.9/site-packages (from requests->huggingface-hub>=0.4.0->sentence_transformers) (2.0.4)\n",
      "Requirement already satisfied: idna<4,>=2.5 in /home/mohammed_shaneeb/anaconda3/lib/python3.9/site-packages (from requests->huggingface-hub>=0.4.0->sentence_transformers) (3.4)\n",
      "Requirement already satisfied: urllib3<3,>=1.21.1 in /home/mohammed_shaneeb/anaconda3/lib/python3.9/site-packages (from requests->huggingface-hub>=0.4.0->sentence_transformers) (1.26.16)\n",
      "Requirement already satisfied: certifi>=2017.4.17 in /home/mohammed_shaneeb/anaconda3/lib/python3.9/site-packages (from requests->huggingface-hub>=0.4.0->sentence_transformers) (2023.7.22)\n",
      "Requirement already satisfied: mpmath>=0.19 in /home/mohammed_shaneeb/anaconda3/lib/python3.9/site-packages (from sympy->torch>=1.6.0->sentence_transformers) (1.3.0)\n",
      "Building wheels for collected packages: sentence_transformers\n",
      "  Building wheel for sentence_transformers (setup.py) ... \u001b[?25ldone\n",
      "\u001b[?25h  Created wheel for sentence_transformers: filename=sentence_transformers-2.2.2-py3-none-any.whl size=125925 sha256=69ffa0e3cc489be7a4d371b6b94d7914319f84f24aa68bcc1fafc3b4472eb7cc\n",
      "  Stored in directory: /home/mohammed_shaneeb/.cache/pip/wheels/71/67/06/162a3760c40d74dd40bc855d527008d26341c2b0ecf3e8e11f\n",
      "Successfully built sentence_transformers\n",
      "Installing collected packages: sentencepiece, sentence_transformers\n",
      "Successfully installed sentence_transformers-2.2.2 sentencepiece-0.1.99\n"
     ]
    }
   ],
   "source": [
    "!pip install sentence_transformers "
   ]
  },
  {
   "cell_type": "code",
   "execution_count": 5,
   "id": "9f9ba03f",
   "metadata": {
    "collapsed": true
   },
   "outputs": [
    {
     "name": "stdout",
     "output_type": "stream",
     "text": [
      "Requirement already satisfied: unstructured[all-docs] in /home/mohammed_shaneeb/anaconda3/lib/python3.9/site-packages (0.10.8)\n",
      "Requirement already satisfied: chardet in /home/mohammed_shaneeb/anaconda3/lib/python3.9/site-packages (from unstructured[all-docs]) (4.0.0)\n",
      "Requirement already satisfied: filetype in /home/mohammed_shaneeb/anaconda3/lib/python3.9/site-packages (from unstructured[all-docs]) (1.2.0)\n",
      "Requirement already satisfied: python-magic in /home/mohammed_shaneeb/anaconda3/lib/python3.9/site-packages (from unstructured[all-docs]) (0.4.27)\n",
      "Requirement already satisfied: lxml in /home/mohammed_shaneeb/anaconda3/lib/python3.9/site-packages (from unstructured[all-docs]) (4.9.1)\n",
      "Requirement already satisfied: nltk in /home/mohammed_shaneeb/anaconda3/lib/python3.9/site-packages (from unstructured[all-docs]) (3.5)\n",
      "Requirement already satisfied: tabulate in /home/mohammed_shaneeb/anaconda3/lib/python3.9/site-packages (from unstructured[all-docs]) (0.8.10)\n",
      "Requirement already satisfied: requests in /home/mohammed_shaneeb/anaconda3/lib/python3.9/site-packages (from unstructured[all-docs]) (2.31.0)\n",
      "Requirement already satisfied: beautifulsoup4 in /home/mohammed_shaneeb/anaconda3/lib/python3.9/site-packages (from unstructured[all-docs]) (4.12.2)\n",
      "Requirement already satisfied: emoji in /home/mohammed_shaneeb/anaconda3/lib/python3.9/site-packages (from unstructured[all-docs]) (2.4.0)\n",
      "Requirement already satisfied: pandas in /home/mohammed_shaneeb/anaconda3/lib/python3.9/site-packages (from unstructured[all-docs]) (1.5.3)\n",
      "Requirement already satisfied: python-pptx in /home/mohammed_shaneeb/anaconda3/lib/python3.9/site-packages (from unstructured[all-docs]) (0.6.21)\n",
      "Requirement already satisfied: pdfminer.six in /home/mohammed_shaneeb/anaconda3/lib/python3.9/site-packages (from unstructured[all-docs]) (20221105)\n",
      "Requirement already satisfied: markdown in /home/mohammed_shaneeb/anaconda3/lib/python3.9/site-packages (from unstructured[all-docs]) (3.4.1)\n",
      "Requirement already satisfied: Pillow<10 in /home/mohammed_shaneeb/anaconda3/lib/python3.9/site-packages (from unstructured[all-docs]) (9.4.0)\n",
      "Requirement already satisfied: xlrd in /home/mohammed_shaneeb/anaconda3/lib/python3.9/site-packages (from unstructured[all-docs]) (2.0.1)\n",
      "Requirement already satisfied: ebooklib in /home/mohammed_shaneeb/anaconda3/lib/python3.9/site-packages (from unstructured[all-docs]) (0.18)\n",
      "Requirement already satisfied: python-docx in /home/mohammed_shaneeb/anaconda3/lib/python3.9/site-packages (from unstructured[all-docs]) (0.8.11)\n",
      "Requirement already satisfied: msg-parser in /home/mohammed_shaneeb/anaconda3/lib/python3.9/site-packages (from unstructured[all-docs]) (1.2.0)\n",
      "Requirement already satisfied: pypandoc in /home/mohammed_shaneeb/anaconda3/lib/python3.9/site-packages (from unstructured[all-docs]) (1.11)\n",
      "Requirement already satisfied: openpyxl in /home/mohammed_shaneeb/anaconda3/lib/python3.9/site-packages (from unstructured[all-docs]) (3.0.10)\n",
      "Requirement already satisfied: pdf2image in /home/mohammed_shaneeb/anaconda3/lib/python3.9/site-packages (from unstructured[all-docs]) (1.16.3)\n",
      "Requirement already satisfied: unstructured-inference in /home/mohammed_shaneeb/anaconda3/lib/python3.9/site-packages (from unstructured[all-docs]) (0.5.17)\n",
      "Requirement already satisfied: soupsieve>1.2 in /home/mohammed_shaneeb/anaconda3/lib/python3.9/site-packages (from beautifulsoup4->unstructured[all-docs]) (2.4)\n",
      "Requirement already satisfied: six in /home/mohammed_shaneeb/.local/lib/python3.9/site-packages (from ebooklib->unstructured[all-docs]) (1.16.0)\n",
      "Requirement already satisfied: importlib-metadata>=4.4 in /home/mohammed_shaneeb/.local/lib/python3.9/site-packages (from markdown->unstructured[all-docs]) (6.0.0)\n",
      "Requirement already satisfied: olefile>=0.46 in /home/mohammed_shaneeb/anaconda3/lib/python3.9/site-packages (from msg-parser->unstructured[all-docs]) (0.46)\n",
      "Requirement already satisfied: click in /home/mohammed_shaneeb/anaconda3/lib/python3.9/site-packages (from nltk->unstructured[all-docs]) (8.1.6)\n",
      "Requirement already satisfied: joblib in /home/mohammed_shaneeb/anaconda3/lib/python3.9/site-packages (from nltk->unstructured[all-docs]) (1.2.0)\n",
      "Requirement already satisfied: regex in /home/mohammed_shaneeb/anaconda3/lib/python3.9/site-packages (from nltk->unstructured[all-docs]) (2022.7.9)\n",
      "Requirement already satisfied: tqdm in /home/mohammed_shaneeb/anaconda3/lib/python3.9/site-packages (from nltk->unstructured[all-docs]) (4.65.0)\n",
      "Requirement already satisfied: et_xmlfile in /home/mohammed_shaneeb/anaconda3/lib/python3.9/site-packages (from openpyxl->unstructured[all-docs]) (1.1.0)\n",
      "Requirement already satisfied: python-dateutil>=2.8.1 in /home/mohammed_shaneeb/anaconda3/lib/python3.9/site-packages (from pandas->unstructured[all-docs]) (2.8.1)\n",
      "Requirement already satisfied: pytz>=2020.1 in /home/mohammed_shaneeb/anaconda3/lib/python3.9/site-packages (from pandas->unstructured[all-docs]) (2022.7)\n",
      "Requirement already satisfied: numpy>=1.20.3 in /home/mohammed_shaneeb/anaconda3/lib/python3.9/site-packages (from pandas->unstructured[all-docs]) (1.23.5)\n",
      "Requirement already satisfied: charset-normalizer>=2.0.0 in /home/mohammed_shaneeb/anaconda3/lib/python3.9/site-packages (from pdfminer.six->unstructured[all-docs]) (2.0.4)\n",
      "Requirement already satisfied: cryptography>=36.0.0 in /home/mohammed_shaneeb/anaconda3/lib/python3.9/site-packages (from pdfminer.six->unstructured[all-docs]) (41.0.2)\n",
      "Requirement already satisfied: XlsxWriter>=0.5.7 in /home/mohammed_shaneeb/anaconda3/lib/python3.9/site-packages (from python-pptx->unstructured[all-docs]) (3.1.2)\n",
      "Requirement already satisfied: idna<4,>=2.5 in /home/mohammed_shaneeb/anaconda3/lib/python3.9/site-packages (from requests->unstructured[all-docs]) (3.4)\n",
      "Requirement already satisfied: urllib3<3,>=1.21.1 in /home/mohammed_shaneeb/anaconda3/lib/python3.9/site-packages (from requests->unstructured[all-docs]) (1.26.16)\n",
      "Requirement already satisfied: certifi>=2017.4.17 in /home/mohammed_shaneeb/anaconda3/lib/python3.9/site-packages (from requests->unstructured[all-docs]) (2023.7.22)\n",
      "Requirement already satisfied: layoutparser[layoutmodels,tesseract] in /home/mohammed_shaneeb/anaconda3/lib/python3.9/site-packages (from unstructured-inference->unstructured[all-docs]) (0.3.4)\n",
      "Requirement already satisfied: python-multipart in /home/mohammed_shaneeb/anaconda3/lib/python3.9/site-packages (from unstructured-inference->unstructured[all-docs]) (0.0.6)\n",
      "Requirement already satisfied: huggingface-hub in /home/mohammed_shaneeb/anaconda3/lib/python3.9/site-packages (from unstructured-inference->unstructured[all-docs]) (0.15.1)\n",
      "Requirement already satisfied: opencv-python!=4.7.0.68 in /home/mohammed_shaneeb/anaconda3/lib/python3.9/site-packages (from unstructured-inference->unstructured[all-docs]) (4.7.0.72)\n",
      "Requirement already satisfied: onnxruntime in /home/mohammed_shaneeb/anaconda3/lib/python3.9/site-packages (from unstructured-inference->unstructured[all-docs]) (1.15.1)\n",
      "Requirement already satisfied: transformers>=4.25.1 in /home/mohammed_shaneeb/anaconda3/lib/python3.9/site-packages (from unstructured-inference->unstructured[all-docs]) (4.29.2)\n",
      "Requirement already satisfied: cffi>=1.12 in /home/mohammed_shaneeb/anaconda3/lib/python3.9/site-packages (from cryptography>=36.0.0->pdfminer.six->unstructured[all-docs]) (1.15.1)\n",
      "Requirement already satisfied: zipp>=0.5 in /home/mohammed_shaneeb/.local/lib/python3.9/site-packages (from importlib-metadata>=4.4->markdown->unstructured[all-docs]) (3.15.0)\n",
      "Requirement already satisfied: filelock in /home/mohammed_shaneeb/anaconda3/lib/python3.9/site-packages (from transformers>=4.25.1->unstructured-inference->unstructured[all-docs]) (3.9.0)\n",
      "Requirement already satisfied: packaging>=20.0 in /home/mohammed_shaneeb/.local/lib/python3.9/site-packages (from transformers>=4.25.1->unstructured-inference->unstructured[all-docs]) (23.0)\n",
      "Requirement already satisfied: pyyaml>=5.1 in /home/mohammed_shaneeb/anaconda3/lib/python3.9/site-packages (from transformers>=4.25.1->unstructured-inference->unstructured[all-docs]) (6.0)\n",
      "Requirement already satisfied: tokenizers!=0.11.3,<0.14,>=0.11.1 in /home/mohammed_shaneeb/anaconda3/lib/python3.9/site-packages (from transformers>=4.25.1->unstructured-inference->unstructured[all-docs]) (0.13.2)\n"
     ]
    },
    {
     "name": "stdout",
     "output_type": "stream",
     "text": [
      "Requirement already satisfied: fsspec in /home/mohammed_shaneeb/anaconda3/lib/python3.9/site-packages (from huggingface-hub->unstructured-inference->unstructured[all-docs]) (2023.4.0)\n",
      "Requirement already satisfied: typing-extensions>=3.7.4.3 in /home/mohammed_shaneeb/anaconda3/lib/python3.9/site-packages (from huggingface-hub->unstructured-inference->unstructured[all-docs]) (4.7.1)\n",
      "Requirement already satisfied: scipy in /home/mohammed_shaneeb/anaconda3/lib/python3.9/site-packages (from layoutparser[layoutmodels,tesseract]->unstructured-inference->unstructured[all-docs]) (1.10.1)\n",
      "Requirement already satisfied: iopath in /home/mohammed_shaneeb/anaconda3/lib/python3.9/site-packages (from layoutparser[layoutmodels,tesseract]->unstructured-inference->unstructured[all-docs]) (0.1.10)\n",
      "Requirement already satisfied: pdfplumber in /home/mohammed_shaneeb/anaconda3/lib/python3.9/site-packages (from layoutparser[layoutmodels,tesseract]->unstructured-inference->unstructured[all-docs]) (0.10.2)\n",
      "Requirement already satisfied: torch in /home/mohammed_shaneeb/anaconda3/lib/python3.9/site-packages (from layoutparser[layoutmodels,tesseract]->unstructured-inference->unstructured[all-docs]) (2.0.1)\n",
      "Requirement already satisfied: torchvision in /home/mohammed_shaneeb/anaconda3/lib/python3.9/site-packages (from layoutparser[layoutmodels,tesseract]->unstructured-inference->unstructured[all-docs]) (0.15.2a0)\n",
      "Requirement already satisfied: effdet in /home/mohammed_shaneeb/anaconda3/lib/python3.9/site-packages (from layoutparser[layoutmodels,tesseract]->unstructured-inference->unstructured[all-docs]) (0.4.1)\n",
      "Requirement already satisfied: pytesseract in /home/mohammed_shaneeb/anaconda3/lib/python3.9/site-packages (from layoutparser[layoutmodels,tesseract]->unstructured-inference->unstructured[all-docs]) (0.3.10)\n",
      "Requirement already satisfied: coloredlogs in /home/mohammed_shaneeb/anaconda3/lib/python3.9/site-packages (from onnxruntime->unstructured-inference->unstructured[all-docs]) (15.0.1)\n",
      "Requirement already satisfied: flatbuffers in /home/mohammed_shaneeb/anaconda3/lib/python3.9/site-packages (from onnxruntime->unstructured-inference->unstructured[all-docs]) (23.5.9)\n",
      "Requirement already satisfied: protobuf in /home/mohammed_shaneeb/anaconda3/lib/python3.9/site-packages (from onnxruntime->unstructured-inference->unstructured[all-docs]) (4.21.12)\n",
      "Requirement already satisfied: sympy in /home/mohammed_shaneeb/anaconda3/lib/python3.9/site-packages (from onnxruntime->unstructured-inference->unstructured[all-docs]) (1.11.1)\n",
      "Requirement already satisfied: pycparser in /home/mohammed_shaneeb/anaconda3/lib/python3.9/site-packages (from cffi>=1.12->cryptography>=36.0.0->pdfminer.six->unstructured[all-docs]) (2.21)\n",
      "Requirement already satisfied: humanfriendly>=9.1 in /home/mohammed_shaneeb/anaconda3/lib/python3.9/site-packages (from coloredlogs->onnxruntime->unstructured-inference->unstructured[all-docs]) (10.0)\n",
      "Requirement already satisfied: timm>=0.9.2 in /home/mohammed_shaneeb/anaconda3/lib/python3.9/site-packages (from effdet->layoutparser[layoutmodels,tesseract]->unstructured-inference->unstructured[all-docs]) (0.9.5)\n",
      "Requirement already satisfied: pycocotools>=2.0.2 in /home/mohammed_shaneeb/anaconda3/lib/python3.9/site-packages (from effdet->layoutparser[layoutmodels,tesseract]->unstructured-inference->unstructured[all-docs]) (2.0.7)\n",
      "Requirement already satisfied: omegaconf>=2.0 in /home/mohammed_shaneeb/anaconda3/lib/python3.9/site-packages (from effdet->layoutparser[layoutmodels,tesseract]->unstructured-inference->unstructured[all-docs]) (2.3.0)\n",
      "Requirement already satisfied: networkx in /home/mohammed_shaneeb/anaconda3/lib/python3.9/site-packages (from torch->layoutparser[layoutmodels,tesseract]->unstructured-inference->unstructured[all-docs]) (3.1)\n",
      "Requirement already satisfied: jinja2 in /home/mohammed_shaneeb/anaconda3/lib/python3.9/site-packages (from torch->layoutparser[layoutmodels,tesseract]->unstructured-inference->unstructured[all-docs]) (3.1.2)\n",
      "Requirement already satisfied: portalocker in /home/mohammed_shaneeb/anaconda3/lib/python3.9/site-packages (from iopath->layoutparser[layoutmodels,tesseract]->unstructured-inference->unstructured[all-docs]) (2.7.0)\n",
      "Requirement already satisfied: pypdfium2>=4.18.0 in /home/mohammed_shaneeb/anaconda3/lib/python3.9/site-packages (from pdfplumber->layoutparser[layoutmodels,tesseract]->unstructured-inference->unstructured[all-docs]) (4.19.0)\n",
      "Requirement already satisfied: mpmath>=0.19 in /home/mohammed_shaneeb/anaconda3/lib/python3.9/site-packages (from sympy->onnxruntime->unstructured-inference->unstructured[all-docs]) (1.3.0)\n",
      "Requirement already satisfied: antlr4-python3-runtime==4.9.* in /home/mohammed_shaneeb/anaconda3/lib/python3.9/site-packages (from omegaconf>=2.0->effdet->layoutparser[layoutmodels,tesseract]->unstructured-inference->unstructured[all-docs]) (4.9.3)\n",
      "Requirement already satisfied: matplotlib>=2.1.0 in /home/mohammed_shaneeb/anaconda3/lib/python3.9/site-packages (from pycocotools>=2.0.2->effdet->layoutparser[layoutmodels,tesseract]->unstructured-inference->unstructured[all-docs]) (3.7.1)\n",
      "Requirement already satisfied: safetensors in /home/mohammed_shaneeb/anaconda3/lib/python3.9/site-packages (from timm>=0.9.2->effdet->layoutparser[layoutmodels,tesseract]->unstructured-inference->unstructured[all-docs]) (0.3.1)\n",
      "Requirement already satisfied: MarkupSafe>=2.0 in /home/mohammed_shaneeb/anaconda3/lib/python3.9/site-packages (from jinja2->torch->layoutparser[layoutmodels,tesseract]->unstructured-inference->unstructured[all-docs]) (2.1.1)\n",
      "Requirement already satisfied: contourpy>=1.0.1 in /home/mohammed_shaneeb/anaconda3/lib/python3.9/site-packages (from matplotlib>=2.1.0->pycocotools>=2.0.2->effdet->layoutparser[layoutmodels,tesseract]->unstructured-inference->unstructured[all-docs]) (1.0.5)\n",
      "Requirement already satisfied: cycler>=0.10 in /home/mohammed_shaneeb/anaconda3/lib/python3.9/site-packages (from matplotlib>=2.1.0->pycocotools>=2.0.2->effdet->layoutparser[layoutmodels,tesseract]->unstructured-inference->unstructured[all-docs]) (0.11.0)\n",
      "Requirement already satisfied: fonttools>=4.22.0 in /home/mohammed_shaneeb/anaconda3/lib/python3.9/site-packages (from matplotlib>=2.1.0->pycocotools>=2.0.2->effdet->layoutparser[layoutmodels,tesseract]->unstructured-inference->unstructured[all-docs]) (4.25.0)\n",
      "Requirement already satisfied: kiwisolver>=1.0.1 in /home/mohammed_shaneeb/anaconda3/lib/python3.9/site-packages (from matplotlib>=2.1.0->pycocotools>=2.0.2->effdet->layoutparser[layoutmodels,tesseract]->unstructured-inference->unstructured[all-docs]) (1.4.4)\n",
      "Requirement already satisfied: pyparsing>=2.3.1 in /home/mohammed_shaneeb/anaconda3/lib/python3.9/site-packages (from matplotlib>=2.1.0->pycocotools>=2.0.2->effdet->layoutparser[layoutmodels,tesseract]->unstructured-inference->unstructured[all-docs]) (3.0.9)\n",
      "Requirement already satisfied: importlib-resources>=3.2.0 in /home/mohammed_shaneeb/anaconda3/lib/python3.9/site-packages (from matplotlib>=2.1.0->pycocotools>=2.0.2->effdet->layoutparser[layoutmodels,tesseract]->unstructured-inference->unstructured[all-docs]) (5.2.0)\n"
     ]
    }
   ],
   "source": [
    "!pip install \"unstructured[all-docs]\""
   ]
  },
  {
   "cell_type": "markdown",
   "id": "b14a53dc",
   "metadata": {},
   "source": [
    "## Load Documets"
   ]
  },
  {
   "cell_type": "code",
   "execution_count": 6,
   "id": "7575ff96",
   "metadata": {},
   "outputs": [
    {
     "data": {
      "text/plain": [
       "1"
      ]
     },
     "execution_count": 6,
     "metadata": {},
     "output_type": "execute_result"
    }
   ],
   "source": [
    "from langchain.document_loaders import DirectoryLoader\n",
    "directory = 'data'\n",
    "\n",
    "def load_docs(directory):\n",
    "    loader  = DirectoryLoader(directory)\n",
    "    documents = loader.load()\n",
    "    return documents\n",
    "\n",
    "documents = load_docs(directory)\n",
    "len(documents)"
   ]
  },
  {
   "cell_type": "markdown",
   "id": "b35a4c13",
   "metadata": {},
   "source": [
    "## Split Documets Into Chunks"
   ]
  },
  {
   "cell_type": "code",
   "execution_count": 8,
   "id": "75a0d874",
   "metadata": {},
   "outputs": [
    {
     "data": {
      "text/plain": [
       "241"
      ]
     },
     "execution_count": 8,
     "metadata": {},
     "output_type": "execute_result"
    }
   ],
   "source": [
    "from langchain.text_splitter import RecursiveCharacterTextSplitter\n",
    "\n",
    "def split_docs(documents,chunk_size=500,chunk_overlap=20):\n",
    "    text_splitter = RecursiveCharacterTextSplitter(chunk_size=chunk_size, chunk_overlap=chunk_overlap)\n",
    "    docs = text_splitter.split_documents(documents)\n",
    "    return docs\n",
    "\n",
    "docs = split_docs(documents)\n",
    "len(docs)"
   ]
  },
  {
   "cell_type": "code",
   "execution_count": 11,
   "id": "f565391a",
   "metadata": {},
   "outputs": [
    {
     "data": {
      "text/plain": [
       "'GOVERNMENT OF INDIA\\n\\nBUDGET 2023-2024\\n\\nSPEECH\\n\\nOF NIRMALA SITHARAMAN MINISTER OF FINANCE\\n\\nFebruary 1, 2023\\n\\nCONTENTS\\n\\nPART-A\\n\\n\\uf0b7 Achievements since 2014: Leaving no one behind \\uf0b7 Vision for Amrit Kaal – an empowered and inclusive economy \\uf0b7\\n\\nPriorities of this Budget i. Inclusive Development ii. Reaching the Last Mile iii. iv. Unleashing the Potential v. Green Growth vi. Youth Power vii. Financial Sector\\n\\nIntroduction\\n\\nInfrastructure and Investment\\n\\nPage No. 1 2 3 5\\n\\n\\n\\nFiscal Management\\n\\n24\\n\\nPART B'"
      ]
     },
     "execution_count": 11,
     "metadata": {},
     "output_type": "execute_result"
    }
   ],
   "source": [
    "docs[0].page_content"
   ]
  },
  {
   "cell_type": "code",
   "execution_count": 12,
   "id": "1055abc5",
   "metadata": {},
   "outputs": [
    {
     "data": {
      "text/plain": [
       "'600\\n\\n690\\n\\nD.2. Other changes in Central Excise [with effect from 02.02.2023]\\n\\nIn order to promote green fuel, central excise duty exemption is being provided to blended Compressed Natural Gas from so much of the amount as is equal to the GST paid on Bio Gas/Compressed Bio Gas contained in the blended CNG.\\n\\nE.\\n\\nOTHERS\\n\\nThere are few other changes of minor nature. For details of the budget proposals, the Explanatory Memorandum and other relevant budget documents may be referred to.\\n\\n*****'"
      ]
     },
     "execution_count": 12,
     "metadata": {},
     "output_type": "execute_result"
    }
   ],
   "source": [
    "docs[240].page_content"
   ]
  },
  {
   "cell_type": "code",
   "execution_count": null,
   "id": "856b5a2b",
   "metadata": {},
   "outputs": [],
   "source": []
  },
  {
   "cell_type": "code",
   "execution_count": null,
   "id": "843ed3cd",
   "metadata": {},
   "outputs": [],
   "source": []
  },
  {
   "cell_type": "code",
   "execution_count": null,
   "id": "0a232336",
   "metadata": {},
   "outputs": [],
   "source": []
  },
  {
   "cell_type": "code",
   "execution_count": null,
   "id": "cc1d29ea",
   "metadata": {},
   "outputs": [],
   "source": []
  },
  {
   "cell_type": "code",
   "execution_count": null,
   "id": "b3b74e9d",
   "metadata": {},
   "outputs": [],
   "source": []
  },
  {
   "cell_type": "code",
   "execution_count": null,
   "id": "e9df6c4b",
   "metadata": {},
   "outputs": [],
   "source": []
  }
 ],
 "metadata": {
  "kernelspec": {
   "display_name": "Python 3 (ipykernel)",
   "language": "python",
   "name": "python3"
  },
  "language_info": {
   "codemirror_mode": {
    "name": "ipython",
    "version": 3
   },
   "file_extension": ".py",
   "mimetype": "text/x-python",
   "name": "python",
   "nbconvert_exporter": "python",
   "pygments_lexer": "ipython3",
   "version": "3.9.17"
  }
 },
 "nbformat": 4,
 "nbformat_minor": 5
}
