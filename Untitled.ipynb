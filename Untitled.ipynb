{
 "cells": [
  {
   "cell_type": "code",
   "execution_count": 3,
   "id": "2873126e",
   "metadata": {},
   "outputs": [],
   "source": [
    "!pip install  langchain openai -q"
   ]
  },
  {
   "cell_type": "code",
   "execution_count": 4,
   "id": "dabe8b44",
   "metadata": {
    "collapsed": true
   },
   "outputs": [
    {
     "name": "stdout",
     "output_type": "stream",
     "text": [
      "Collecting sentence_transformers\n",
      "  Using cached sentence-transformers-2.2.2.tar.gz (85 kB)\n",
      "  Preparing metadata (setup.py) ... \u001b[?25ldone\n",
      "\u001b[?25hRequirement already satisfied: transformers<5.0.0,>=4.6.0 in /home/mohammed_shaneeb/anaconda3/lib/python3.9/site-packages (from sentence_transformers) (4.29.2)\n",
      "Requirement already satisfied: tqdm in /home/mohammed_shaneeb/anaconda3/lib/python3.9/site-packages (from sentence_transformers) (4.65.0)\n",
      "Requirement already satisfied: torch>=1.6.0 in /home/mohammed_shaneeb/anaconda3/lib/python3.9/site-packages (from sentence_transformers) (2.0.1)\n",
      "Requirement already satisfied: torchvision in /home/mohammed_shaneeb/anaconda3/lib/python3.9/site-packages (from sentence_transformers) (0.15.2a0)\n",
      "Requirement already satisfied: numpy in /home/mohammed_shaneeb/anaconda3/lib/python3.9/site-packages (from sentence_transformers) (1.23.5)\n",
      "Requirement already satisfied: scikit-learn in /home/mohammed_shaneeb/anaconda3/lib/python3.9/site-packages (from sentence_transformers) (1.3.0)\n",
      "Requirement already satisfied: scipy in /home/mohammed_shaneeb/anaconda3/lib/python3.9/site-packages (from sentence_transformers) (1.10.1)\n",
      "Requirement already satisfied: nltk in /home/mohammed_shaneeb/anaconda3/lib/python3.9/site-packages (from sentence_transformers) (3.5)\n",
      "Collecting sentencepiece (from sentence_transformers)\n",
      "  Downloading sentencepiece-0.1.99-cp39-cp39-manylinux_2_17_x86_64.manylinux2014_x86_64.whl (1.3 MB)\n",
      "\u001b[2K     \u001b[38;2;114;156;31m━━━━━━━━━━━━━━━━━━━━━━━━━━━━━━━━━━━━━━━━\u001b[0m \u001b[32m1.3/1.3 MB\u001b[0m \u001b[31m2.6 MB/s\u001b[0m eta \u001b[36m0:00:00\u001b[0m[31m2.7 MB/s\u001b[0m eta \u001b[36m0:00:01\u001b[0m\n",
      "\u001b[?25hRequirement already satisfied: huggingface-hub>=0.4.0 in /home/mohammed_shaneeb/anaconda3/lib/python3.9/site-packages (from sentence_transformers) (0.15.1)\n",
      "Requirement already satisfied: filelock in /home/mohammed_shaneeb/anaconda3/lib/python3.9/site-packages (from huggingface-hub>=0.4.0->sentence_transformers) (3.9.0)\n",
      "Requirement already satisfied: fsspec in /home/mohammed_shaneeb/anaconda3/lib/python3.9/site-packages (from huggingface-hub>=0.4.0->sentence_transformers) (2023.4.0)\n",
      "Requirement already satisfied: requests in /home/mohammed_shaneeb/anaconda3/lib/python3.9/site-packages (from huggingface-hub>=0.4.0->sentence_transformers) (2.31.0)\n",
      "Requirement already satisfied: pyyaml>=5.1 in /home/mohammed_shaneeb/anaconda3/lib/python3.9/site-packages (from huggingface-hub>=0.4.0->sentence_transformers) (6.0)\n",
      "Requirement already satisfied: typing-extensions>=3.7.4.3 in /home/mohammed_shaneeb/anaconda3/lib/python3.9/site-packages (from huggingface-hub>=0.4.0->sentence_transformers) (4.7.1)\n",
      "Requirement already satisfied: packaging>=20.9 in /home/mohammed_shaneeb/.local/lib/python3.9/site-packages (from huggingface-hub>=0.4.0->sentence_transformers) (23.0)\n",
      "Requirement already satisfied: sympy in /home/mohammed_shaneeb/anaconda3/lib/python3.9/site-packages (from torch>=1.6.0->sentence_transformers) (1.11.1)\n",
      "Requirement already satisfied: networkx in /home/mohammed_shaneeb/anaconda3/lib/python3.9/site-packages (from torch>=1.6.0->sentence_transformers) (3.1)\n",
      "Requirement already satisfied: jinja2 in /home/mohammed_shaneeb/anaconda3/lib/python3.9/site-packages (from torch>=1.6.0->sentence_transformers) (3.1.2)\n",
      "Requirement already satisfied: regex!=2019.12.17 in /home/mohammed_shaneeb/anaconda3/lib/python3.9/site-packages (from transformers<5.0.0,>=4.6.0->sentence_transformers) (2022.7.9)\n",
      "Requirement already satisfied: tokenizers!=0.11.3,<0.14,>=0.11.1 in /home/mohammed_shaneeb/anaconda3/lib/python3.9/site-packages (from transformers<5.0.0,>=4.6.0->sentence_transformers) (0.13.2)\n",
      "Requirement already satisfied: click in /home/mohammed_shaneeb/anaconda3/lib/python3.9/site-packages (from nltk->sentence_transformers) (8.1.6)\n",
      "Requirement already satisfied: joblib in /home/mohammed_shaneeb/anaconda3/lib/python3.9/site-packages (from nltk->sentence_transformers) (1.2.0)\n",
      "Requirement already satisfied: threadpoolctl>=2.0.0 in /home/mohammed_shaneeb/anaconda3/lib/python3.9/site-packages (from scikit-learn->sentence_transformers) (2.2.0)\n",
      "Requirement already satisfied: pillow!=8.3.*,>=5.3.0 in /home/mohammed_shaneeb/anaconda3/lib/python3.9/site-packages (from torchvision->sentence_transformers) (9.4.0)\n",
      "Requirement already satisfied: MarkupSafe>=2.0 in /home/mohammed_shaneeb/anaconda3/lib/python3.9/site-packages (from jinja2->torch>=1.6.0->sentence_transformers) (2.1.1)\n",
      "Requirement already satisfied: charset-normalizer<4,>=2 in /home/mohammed_shaneeb/anaconda3/lib/python3.9/site-packages (from requests->huggingface-hub>=0.4.0->sentence_transformers) (2.0.4)\n",
      "Requirement already satisfied: idna<4,>=2.5 in /home/mohammed_shaneeb/anaconda3/lib/python3.9/site-packages (from requests->huggingface-hub>=0.4.0->sentence_transformers) (3.4)\n",
      "Requirement already satisfied: urllib3<3,>=1.21.1 in /home/mohammed_shaneeb/anaconda3/lib/python3.9/site-packages (from requests->huggingface-hub>=0.4.0->sentence_transformers) (1.26.16)\n",
      "Requirement already satisfied: certifi>=2017.4.17 in /home/mohammed_shaneeb/anaconda3/lib/python3.9/site-packages (from requests->huggingface-hub>=0.4.0->sentence_transformers) (2023.7.22)\n",
      "Requirement already satisfied: mpmath>=0.19 in /home/mohammed_shaneeb/anaconda3/lib/python3.9/site-packages (from sympy->torch>=1.6.0->sentence_transformers) (1.3.0)\n",
      "Building wheels for collected packages: sentence_transformers\n",
      "  Building wheel for sentence_transformers (setup.py) ... \u001b[?25ldone\n",
      "\u001b[?25h  Created wheel for sentence_transformers: filename=sentence_transformers-2.2.2-py3-none-any.whl size=125925 sha256=69ffa0e3cc489be7a4d371b6b94d7914319f84f24aa68bcc1fafc3b4472eb7cc\n",
      "  Stored in directory: /home/mohammed_shaneeb/.cache/pip/wheels/71/67/06/162a3760c40d74dd40bc855d527008d26341c2b0ecf3e8e11f\n",
      "Successfully built sentence_transformers\n",
      "Installing collected packages: sentencepiece, sentence_transformers\n",
      "Successfully installed sentence_transformers-2.2.2 sentencepiece-0.1.99\n"
     ]
    }
   ],
   "source": [
    "!pip install sentence_transformers "
   ]
  },
  {
   "cell_type": "code",
   "execution_count": 5,
   "id": "7dac8ae0",
   "metadata": {
    "collapsed": true
   },
   "outputs": [
    {
     "name": "stdout",
     "output_type": "stream",
     "text": [
      "Requirement already satisfied: unstructured[all-docs] in /home/mohammed_shaneeb/anaconda3/lib/python3.9/site-packages (0.10.8)\n",
      "Requirement already satisfied: chardet in /home/mohammed_shaneeb/anaconda3/lib/python3.9/site-packages (from unstructured[all-docs]) (4.0.0)\n",
      "Requirement already satisfied: filetype in /home/mohammed_shaneeb/anaconda3/lib/python3.9/site-packages (from unstructured[all-docs]) (1.2.0)\n",
      "Requirement already satisfied: python-magic in /home/mohammed_shaneeb/anaconda3/lib/python3.9/site-packages (from unstructured[all-docs]) (0.4.27)\n",
      "Requirement already satisfied: lxml in /home/mohammed_shaneeb/anaconda3/lib/python3.9/site-packages (from unstructured[all-docs]) (4.9.1)\n",
      "Requirement already satisfied: nltk in /home/mohammed_shaneeb/anaconda3/lib/python3.9/site-packages (from unstructured[all-docs]) (3.5)\n",
      "Requirement already satisfied: tabulate in /home/mohammed_shaneeb/anaconda3/lib/python3.9/site-packages (from unstructured[all-docs]) (0.8.10)\n",
      "Requirement already satisfied: requests in /home/mohammed_shaneeb/anaconda3/lib/python3.9/site-packages (from unstructured[all-docs]) (2.31.0)\n",
      "Requirement already satisfied: beautifulsoup4 in /home/mohammed_shaneeb/anaconda3/lib/python3.9/site-packages (from unstructured[all-docs]) (4.12.2)\n",
      "Requirement already satisfied: emoji in /home/mohammed_shaneeb/anaconda3/lib/python3.9/site-packages (from unstructured[all-docs]) (2.4.0)\n",
      "Requirement already satisfied: pandas in /home/mohammed_shaneeb/anaconda3/lib/python3.9/site-packages (from unstructured[all-docs]) (1.5.3)\n",
      "Requirement already satisfied: python-pptx in /home/mohammed_shaneeb/anaconda3/lib/python3.9/site-packages (from unstructured[all-docs]) (0.6.21)\n",
      "Requirement already satisfied: pdfminer.six in /home/mohammed_shaneeb/anaconda3/lib/python3.9/site-packages (from unstructured[all-docs]) (20221105)\n",
      "Requirement already satisfied: markdown in /home/mohammed_shaneeb/anaconda3/lib/python3.9/site-packages (from unstructured[all-docs]) (3.4.1)\n",
      "Requirement already satisfied: Pillow<10 in /home/mohammed_shaneeb/anaconda3/lib/python3.9/site-packages (from unstructured[all-docs]) (9.4.0)\n",
      "Requirement already satisfied: xlrd in /home/mohammed_shaneeb/anaconda3/lib/python3.9/site-packages (from unstructured[all-docs]) (2.0.1)\n",
      "Requirement already satisfied: ebooklib in /home/mohammed_shaneeb/anaconda3/lib/python3.9/site-packages (from unstructured[all-docs]) (0.18)\n",
      "Requirement already satisfied: python-docx in /home/mohammed_shaneeb/anaconda3/lib/python3.9/site-packages (from unstructured[all-docs]) (0.8.11)\n",
      "Requirement already satisfied: msg-parser in /home/mohammed_shaneeb/anaconda3/lib/python3.9/site-packages (from unstructured[all-docs]) (1.2.0)\n",
      "Requirement already satisfied: pypandoc in /home/mohammed_shaneeb/anaconda3/lib/python3.9/site-packages (from unstructured[all-docs]) (1.11)\n",
      "Requirement already satisfied: openpyxl in /home/mohammed_shaneeb/anaconda3/lib/python3.9/site-packages (from unstructured[all-docs]) (3.0.10)\n",
      "Requirement already satisfied: pdf2image in /home/mohammed_shaneeb/anaconda3/lib/python3.9/site-packages (from unstructured[all-docs]) (1.16.3)\n",
      "Requirement already satisfied: unstructured-inference in /home/mohammed_shaneeb/anaconda3/lib/python3.9/site-packages (from unstructured[all-docs]) (0.5.17)\n",
      "Requirement already satisfied: soupsieve>1.2 in /home/mohammed_shaneeb/anaconda3/lib/python3.9/site-packages (from beautifulsoup4->unstructured[all-docs]) (2.4)\n",
      "Requirement already satisfied: six in /home/mohammed_shaneeb/.local/lib/python3.9/site-packages (from ebooklib->unstructured[all-docs]) (1.16.0)\n",
      "Requirement already satisfied: importlib-metadata>=4.4 in /home/mohammed_shaneeb/.local/lib/python3.9/site-packages (from markdown->unstructured[all-docs]) (6.0.0)\n",
      "Requirement already satisfied: olefile>=0.46 in /home/mohammed_shaneeb/anaconda3/lib/python3.9/site-packages (from msg-parser->unstructured[all-docs]) (0.46)\n",
      "Requirement already satisfied: click in /home/mohammed_shaneeb/anaconda3/lib/python3.9/site-packages (from nltk->unstructured[all-docs]) (8.1.6)\n",
      "Requirement already satisfied: joblib in /home/mohammed_shaneeb/anaconda3/lib/python3.9/site-packages (from nltk->unstructured[all-docs]) (1.2.0)\n",
      "Requirement already satisfied: regex in /home/mohammed_shaneeb/anaconda3/lib/python3.9/site-packages (from nltk->unstructured[all-docs]) (2022.7.9)\n",
      "Requirement already satisfied: tqdm in /home/mohammed_shaneeb/anaconda3/lib/python3.9/site-packages (from nltk->unstructured[all-docs]) (4.65.0)\n",
      "Requirement already satisfied: et_xmlfile in /home/mohammed_shaneeb/anaconda3/lib/python3.9/site-packages (from openpyxl->unstructured[all-docs]) (1.1.0)\n",
      "Requirement already satisfied: python-dateutil>=2.8.1 in /home/mohammed_shaneeb/anaconda3/lib/python3.9/site-packages (from pandas->unstructured[all-docs]) (2.8.1)\n",
      "Requirement already satisfied: pytz>=2020.1 in /home/mohammed_shaneeb/anaconda3/lib/python3.9/site-packages (from pandas->unstructured[all-docs]) (2022.7)\n",
      "Requirement already satisfied: numpy>=1.20.3 in /home/mohammed_shaneeb/anaconda3/lib/python3.9/site-packages (from pandas->unstructured[all-docs]) (1.23.5)\n",
      "Requirement already satisfied: charset-normalizer>=2.0.0 in /home/mohammed_shaneeb/anaconda3/lib/python3.9/site-packages (from pdfminer.six->unstructured[all-docs]) (2.0.4)\n",
      "Requirement already satisfied: cryptography>=36.0.0 in /home/mohammed_shaneeb/anaconda3/lib/python3.9/site-packages (from pdfminer.six->unstructured[all-docs]) (41.0.2)\n",
      "Requirement already satisfied: XlsxWriter>=0.5.7 in /home/mohammed_shaneeb/anaconda3/lib/python3.9/site-packages (from python-pptx->unstructured[all-docs]) (3.1.2)\n",
      "Requirement already satisfied: idna<4,>=2.5 in /home/mohammed_shaneeb/anaconda3/lib/python3.9/site-packages (from requests->unstructured[all-docs]) (3.4)\n",
      "Requirement already satisfied: urllib3<3,>=1.21.1 in /home/mohammed_shaneeb/anaconda3/lib/python3.9/site-packages (from requests->unstructured[all-docs]) (1.26.16)\n",
      "Requirement already satisfied: certifi>=2017.4.17 in /home/mohammed_shaneeb/anaconda3/lib/python3.9/site-packages (from requests->unstructured[all-docs]) (2023.7.22)\n",
      "Requirement already satisfied: layoutparser[layoutmodels,tesseract] in /home/mohammed_shaneeb/anaconda3/lib/python3.9/site-packages (from unstructured-inference->unstructured[all-docs]) (0.3.4)\n",
      "Requirement already satisfied: python-multipart in /home/mohammed_shaneeb/anaconda3/lib/python3.9/site-packages (from unstructured-inference->unstructured[all-docs]) (0.0.6)\n",
      "Requirement already satisfied: huggingface-hub in /home/mohammed_shaneeb/anaconda3/lib/python3.9/site-packages (from unstructured-inference->unstructured[all-docs]) (0.15.1)\n",
      "Requirement already satisfied: opencv-python!=4.7.0.68 in /home/mohammed_shaneeb/anaconda3/lib/python3.9/site-packages (from unstructured-inference->unstructured[all-docs]) (4.7.0.72)\n",
      "Requirement already satisfied: onnxruntime in /home/mohammed_shaneeb/anaconda3/lib/python3.9/site-packages (from unstructured-inference->unstructured[all-docs]) (1.15.1)\n",
      "Requirement already satisfied: transformers>=4.25.1 in /home/mohammed_shaneeb/anaconda3/lib/python3.9/site-packages (from unstructured-inference->unstructured[all-docs]) (4.29.2)\n",
      "Requirement already satisfied: cffi>=1.12 in /home/mohammed_shaneeb/anaconda3/lib/python3.9/site-packages (from cryptography>=36.0.0->pdfminer.six->unstructured[all-docs]) (1.15.1)\n",
      "Requirement already satisfied: zipp>=0.5 in /home/mohammed_shaneeb/.local/lib/python3.9/site-packages (from importlib-metadata>=4.4->markdown->unstructured[all-docs]) (3.15.0)\n",
      "Requirement already satisfied: filelock in /home/mohammed_shaneeb/anaconda3/lib/python3.9/site-packages (from transformers>=4.25.1->unstructured-inference->unstructured[all-docs]) (3.9.0)\n",
      "Requirement already satisfied: packaging>=20.0 in /home/mohammed_shaneeb/.local/lib/python3.9/site-packages (from transformers>=4.25.1->unstructured-inference->unstructured[all-docs]) (23.0)\n",
      "Requirement already satisfied: pyyaml>=5.1 in /home/mohammed_shaneeb/anaconda3/lib/python3.9/site-packages (from transformers>=4.25.1->unstructured-inference->unstructured[all-docs]) (6.0)\n",
      "Requirement already satisfied: tokenizers!=0.11.3,<0.14,>=0.11.1 in /home/mohammed_shaneeb/anaconda3/lib/python3.9/site-packages (from transformers>=4.25.1->unstructured-inference->unstructured[all-docs]) (0.13.2)\n"
     ]
    },
    {
     "name": "stdout",
     "output_type": "stream",
     "text": [
      "Requirement already satisfied: fsspec in /home/mohammed_shaneeb/anaconda3/lib/python3.9/site-packages (from huggingface-hub->unstructured-inference->unstructured[all-docs]) (2023.4.0)\n",
      "Requirement already satisfied: typing-extensions>=3.7.4.3 in /home/mohammed_shaneeb/anaconda3/lib/python3.9/site-packages (from huggingface-hub->unstructured-inference->unstructured[all-docs]) (4.7.1)\n",
      "Requirement already satisfied: scipy in /home/mohammed_shaneeb/anaconda3/lib/python3.9/site-packages (from layoutparser[layoutmodels,tesseract]->unstructured-inference->unstructured[all-docs]) (1.10.1)\n",
      "Requirement already satisfied: iopath in /home/mohammed_shaneeb/anaconda3/lib/python3.9/site-packages (from layoutparser[layoutmodels,tesseract]->unstructured-inference->unstructured[all-docs]) (0.1.10)\n",
      "Requirement already satisfied: pdfplumber in /home/mohammed_shaneeb/anaconda3/lib/python3.9/site-packages (from layoutparser[layoutmodels,tesseract]->unstructured-inference->unstructured[all-docs]) (0.10.2)\n",
      "Requirement already satisfied: torch in /home/mohammed_shaneeb/anaconda3/lib/python3.9/site-packages (from layoutparser[layoutmodels,tesseract]->unstructured-inference->unstructured[all-docs]) (2.0.1)\n",
      "Requirement already satisfied: torchvision in /home/mohammed_shaneeb/anaconda3/lib/python3.9/site-packages (from layoutparser[layoutmodels,tesseract]->unstructured-inference->unstructured[all-docs]) (0.15.2a0)\n",
      "Requirement already satisfied: effdet in /home/mohammed_shaneeb/anaconda3/lib/python3.9/site-packages (from layoutparser[layoutmodels,tesseract]->unstructured-inference->unstructured[all-docs]) (0.4.1)\n",
      "Requirement already satisfied: pytesseract in /home/mohammed_shaneeb/anaconda3/lib/python3.9/site-packages (from layoutparser[layoutmodels,tesseract]->unstructured-inference->unstructured[all-docs]) (0.3.10)\n",
      "Requirement already satisfied: coloredlogs in /home/mohammed_shaneeb/anaconda3/lib/python3.9/site-packages (from onnxruntime->unstructured-inference->unstructured[all-docs]) (15.0.1)\n",
      "Requirement already satisfied: flatbuffers in /home/mohammed_shaneeb/anaconda3/lib/python3.9/site-packages (from onnxruntime->unstructured-inference->unstructured[all-docs]) (23.5.9)\n",
      "Requirement already satisfied: protobuf in /home/mohammed_shaneeb/anaconda3/lib/python3.9/site-packages (from onnxruntime->unstructured-inference->unstructured[all-docs]) (4.21.12)\n",
      "Requirement already satisfied: sympy in /home/mohammed_shaneeb/anaconda3/lib/python3.9/site-packages (from onnxruntime->unstructured-inference->unstructured[all-docs]) (1.11.1)\n",
      "Requirement already satisfied: pycparser in /home/mohammed_shaneeb/anaconda3/lib/python3.9/site-packages (from cffi>=1.12->cryptography>=36.0.0->pdfminer.six->unstructured[all-docs]) (2.21)\n",
      "Requirement already satisfied: humanfriendly>=9.1 in /home/mohammed_shaneeb/anaconda3/lib/python3.9/site-packages (from coloredlogs->onnxruntime->unstructured-inference->unstructured[all-docs]) (10.0)\n",
      "Requirement already satisfied: timm>=0.9.2 in /home/mohammed_shaneeb/anaconda3/lib/python3.9/site-packages (from effdet->layoutparser[layoutmodels,tesseract]->unstructured-inference->unstructured[all-docs]) (0.9.5)\n",
      "Requirement already satisfied: pycocotools>=2.0.2 in /home/mohammed_shaneeb/anaconda3/lib/python3.9/site-packages (from effdet->layoutparser[layoutmodels,tesseract]->unstructured-inference->unstructured[all-docs]) (2.0.7)\n",
      "Requirement already satisfied: omegaconf>=2.0 in /home/mohammed_shaneeb/anaconda3/lib/python3.9/site-packages (from effdet->layoutparser[layoutmodels,tesseract]->unstructured-inference->unstructured[all-docs]) (2.3.0)\n",
      "Requirement already satisfied: networkx in /home/mohammed_shaneeb/anaconda3/lib/python3.9/site-packages (from torch->layoutparser[layoutmodels,tesseract]->unstructured-inference->unstructured[all-docs]) (3.1)\n",
      "Requirement already satisfied: jinja2 in /home/mohammed_shaneeb/anaconda3/lib/python3.9/site-packages (from torch->layoutparser[layoutmodels,tesseract]->unstructured-inference->unstructured[all-docs]) (3.1.2)\n",
      "Requirement already satisfied: portalocker in /home/mohammed_shaneeb/anaconda3/lib/python3.9/site-packages (from iopath->layoutparser[layoutmodels,tesseract]->unstructured-inference->unstructured[all-docs]) (2.7.0)\n",
      "Requirement already satisfied: pypdfium2>=4.18.0 in /home/mohammed_shaneeb/anaconda3/lib/python3.9/site-packages (from pdfplumber->layoutparser[layoutmodels,tesseract]->unstructured-inference->unstructured[all-docs]) (4.19.0)\n",
      "Requirement already satisfied: mpmath>=0.19 in /home/mohammed_shaneeb/anaconda3/lib/python3.9/site-packages (from sympy->onnxruntime->unstructured-inference->unstructured[all-docs]) (1.3.0)\n",
      "Requirement already satisfied: antlr4-python3-runtime==4.9.* in /home/mohammed_shaneeb/anaconda3/lib/python3.9/site-packages (from omegaconf>=2.0->effdet->layoutparser[layoutmodels,tesseract]->unstructured-inference->unstructured[all-docs]) (4.9.3)\n",
      "Requirement already satisfied: matplotlib>=2.1.0 in /home/mohammed_shaneeb/anaconda3/lib/python3.9/site-packages (from pycocotools>=2.0.2->effdet->layoutparser[layoutmodels,tesseract]->unstructured-inference->unstructured[all-docs]) (3.7.1)\n",
      "Requirement already satisfied: safetensors in /home/mohammed_shaneeb/anaconda3/lib/python3.9/site-packages (from timm>=0.9.2->effdet->layoutparser[layoutmodels,tesseract]->unstructured-inference->unstructured[all-docs]) (0.3.1)\n",
      "Requirement already satisfied: MarkupSafe>=2.0 in /home/mohammed_shaneeb/anaconda3/lib/python3.9/site-packages (from jinja2->torch->layoutparser[layoutmodels,tesseract]->unstructured-inference->unstructured[all-docs]) (2.1.1)\n",
      "Requirement already satisfied: contourpy>=1.0.1 in /home/mohammed_shaneeb/anaconda3/lib/python3.9/site-packages (from matplotlib>=2.1.0->pycocotools>=2.0.2->effdet->layoutparser[layoutmodels,tesseract]->unstructured-inference->unstructured[all-docs]) (1.0.5)\n",
      "Requirement already satisfied: cycler>=0.10 in /home/mohammed_shaneeb/anaconda3/lib/python3.9/site-packages (from matplotlib>=2.1.0->pycocotools>=2.0.2->effdet->layoutparser[layoutmodels,tesseract]->unstructured-inference->unstructured[all-docs]) (0.11.0)\n",
      "Requirement already satisfied: fonttools>=4.22.0 in /home/mohammed_shaneeb/anaconda3/lib/python3.9/site-packages (from matplotlib>=2.1.0->pycocotools>=2.0.2->effdet->layoutparser[layoutmodels,tesseract]->unstructured-inference->unstructured[all-docs]) (4.25.0)\n",
      "Requirement already satisfied: kiwisolver>=1.0.1 in /home/mohammed_shaneeb/anaconda3/lib/python3.9/site-packages (from matplotlib>=2.1.0->pycocotools>=2.0.2->effdet->layoutparser[layoutmodels,tesseract]->unstructured-inference->unstructured[all-docs]) (1.4.4)\n",
      "Requirement already satisfied: pyparsing>=2.3.1 in /home/mohammed_shaneeb/anaconda3/lib/python3.9/site-packages (from matplotlib>=2.1.0->pycocotools>=2.0.2->effdet->layoutparser[layoutmodels,tesseract]->unstructured-inference->unstructured[all-docs]) (3.0.9)\n",
      "Requirement already satisfied: importlib-resources>=3.2.0 in /home/mohammed_shaneeb/anaconda3/lib/python3.9/site-packages (from matplotlib>=2.1.0->pycocotools>=2.0.2->effdet->layoutparser[layoutmodels,tesseract]->unstructured-inference->unstructured[all-docs]) (5.2.0)\n"
     ]
    }
   ],
   "source": [
    "!pip install \"unstructured[all-docs]\""
   ]
  },
  {
   "cell_type": "markdown",
   "id": "1b0b9123",
   "metadata": {},
   "source": [
    "## initializing api_keys"
   ]
  },
  {
   "cell_type": "code",
   "execution_count": null,
   "id": "d21e7019",
   "metadata": {},
   "outputs": [],
   "source": [
    "from dotenv import load_dotenv\n",
    "import os\n",
    "load_dotenv()\n",
    "\n",
    "OPENAI_API_KEY = os.environ.get('OPENAI_API_KEY')\n",
    "PineCone_KEY = os.environ.get('PineCone_KEY')"
   ]
  },
  {
   "cell_type": "markdown",
   "id": "88c85263",
   "metadata": {},
   "source": [
    "## Load Documents"
   ]
  },
  {
   "cell_type": "code",
   "execution_count": 6,
   "id": "f09543c6",
   "metadata": {},
   "outputs": [
    {
     "data": {
      "text/plain": [
       "1"
      ]
     },
     "execution_count": 6,
     "metadata": {},
     "output_type": "execute_result"
    }
   ],
   "source": [
    "from langchain.document_loaders import DirectoryLoader\n",
    "directory = 'data'\n",
    "\n",
    "def load_docs(directory):\n",
    "    loader  = DirectoryLoader(directory)\n",
    "    documents = loader.load()\n",
    "    return documents\n",
    "\n",
    "documents = load_docs(directory)\n",
    "len(documents)"
   ]
  },
  {
   "cell_type": "markdown",
   "id": "6ddc2d61",
   "metadata": {},
   "source": [
    "## Split Documets Into Chunks"
   ]
  },
  {
   "cell_type": "code",
   "execution_count": 8,
   "id": "713b23a6",
   "metadata": {},
   "outputs": [
    {
     "data": {
      "text/plain": [
       "241"
      ]
     },
     "execution_count": 8,
     "metadata": {},
     "output_type": "execute_result"
    }
   ],
   "source": [
    "from langchain.text_splitter import RecursiveCharacterTextSplitter\n",
    "\n",
    "def split_docs(documents,chunk_size=500,chunk_overlap=20):\n",
    "    text_splitter = RecursiveCharacterTextSplitter(chunk_size=chunk_size, chunk_overlap=chunk_overlap)\n",
    "    docs = text_splitter.split_documents(documents)\n",
    "    return docs\n",
    "\n",
    "docs = split_docs(documents)\n",
    "len(docs)"
   ]
  },
  {
   "cell_type": "code",
   "execution_count": 11,
   "id": "fbdcad28",
   "metadata": {},
   "outputs": [
    {
     "data": {
      "text/plain": [
       "'GOVERNMENT OF INDIA\\n\\nBUDGET 2023-2024\\n\\nSPEECH\\n\\nOF NIRMALA SITHARAMAN MINISTER OF FINANCE\\n\\nFebruary 1, 2023\\n\\nCONTENTS\\n\\nPART-A\\n\\n\\uf0b7 Achievements since 2014: Leaving no one behind \\uf0b7 Vision for Amrit Kaal – an empowered and inclusive economy \\uf0b7\\n\\nPriorities of this Budget i. Inclusive Development ii. Reaching the Last Mile iii. iv. Unleashing the Potential v. Green Growth vi. Youth Power vii. Financial Sector\\n\\nIntroduction\\n\\nInfrastructure and Investment\\n\\nPage No. 1 2 3 5\\n\\n\\n\\nFiscal Management\\n\\n24\\n\\nPART B'"
      ]
     },
     "execution_count": 11,
     "metadata": {},
     "output_type": "execute_result"
    }
   ],
   "source": [
    "docs[0].page_content"
   ]
  },
  {
   "cell_type": "code",
   "execution_count": 12,
   "id": "62b69ca3",
   "metadata": {},
   "outputs": [
    {
     "data": {
      "text/plain": [
       "'600\\n\\n690\\n\\nD.2. Other changes in Central Excise [with effect from 02.02.2023]\\n\\nIn order to promote green fuel, central excise duty exemption is being provided to blended Compressed Natural Gas from so much of the amount as is equal to the GST paid on Bio Gas/Compressed Bio Gas contained in the blended CNG.\\n\\nE.\\n\\nOTHERS\\n\\nThere are few other changes of minor nature. For details of the budget proposals, the Explanatory Memorandum and other relevant budget documents may be referred to.\\n\\n*****'"
      ]
     },
     "execution_count": 12,
     "metadata": {},
     "output_type": "execute_result"
    }
   ],
   "source": [
    "docs[240].page_content"
   ]
  },
  {
   "cell_type": "markdown",
   "id": "a1671ed3",
   "metadata": {},
   "source": [
    "## Embedding"
   ]
  },
  {
   "cell_type": "code",
   "execution_count": 13,
   "id": "76433f51",
   "metadata": {},
   "outputs": [
    {
     "data": {
      "application/vnd.jupyter.widget-view+json": {
       "model_id": "2dbfc92490244fa187bfadedafbcc97c",
       "version_major": 2,
       "version_minor": 0
      },
      "text/plain": [
       "Downloading (…)e9125/.gitattributes:   0%|          | 0.00/1.18k [00:00<?, ?B/s]"
      ]
     },
     "metadata": {},
     "output_type": "display_data"
    },
    {
     "data": {
      "application/vnd.jupyter.widget-view+json": {
       "model_id": "3b5e3eba4da24f089acce2c36c6c65b7",
       "version_major": 2,
       "version_minor": 0
      },
      "text/plain": [
       "Downloading (…)_Pooling/config.json:   0%|          | 0.00/190 [00:00<?, ?B/s]"
      ]
     },
     "metadata": {},
     "output_type": "display_data"
    },
    {
     "data": {
      "application/vnd.jupyter.widget-view+json": {
       "model_id": "48296fe516524554a77db321421a48bc",
       "version_major": 2,
       "version_minor": 0
      },
      "text/plain": [
       "Downloading (…)7e55de9125/README.md:   0%|          | 0.00/10.6k [00:00<?, ?B/s]"
      ]
     },
     "metadata": {},
     "output_type": "display_data"
    },
    {
     "data": {
      "application/vnd.jupyter.widget-view+json": {
       "model_id": "94f8a7acde304b059a0cf4a0a5634550",
       "version_major": 2,
       "version_minor": 0
      },
      "text/plain": [
       "Downloading (…)55de9125/config.json:   0%|          | 0.00/612 [00:00<?, ?B/s]"
      ]
     },
     "metadata": {},
     "output_type": "display_data"
    },
    {
     "data": {
      "application/vnd.jupyter.widget-view+json": {
       "model_id": "d4fed7edac2d4b998f4f6eb01f2d9315",
       "version_major": 2,
       "version_minor": 0
      },
      "text/plain": [
       "Downloading (…)ce_transformers.json:   0%|          | 0.00/116 [00:00<?, ?B/s]"
      ]
     },
     "metadata": {},
     "output_type": "display_data"
    },
    {
     "data": {
      "application/vnd.jupyter.widget-view+json": {
       "model_id": "cdc942e5856449289354d0ab0dc44471",
       "version_major": 2,
       "version_minor": 0
      },
      "text/plain": [
       "Downloading (…)125/data_config.json:   0%|          | 0.00/39.3k [00:00<?, ?B/s]"
      ]
     },
     "metadata": {},
     "output_type": "display_data"
    },
    {
     "data": {
      "application/vnd.jupyter.widget-view+json": {
       "model_id": "546e890351e445a99d0858a50b21fe39",
       "version_major": 2,
       "version_minor": 0
      },
      "text/plain": [
       "Downloading pytorch_model.bin:   0%|          | 0.00/90.9M [00:00<?, ?B/s]"
      ]
     },
     "metadata": {},
     "output_type": "display_data"
    },
    {
     "data": {
      "application/vnd.jupyter.widget-view+json": {
       "model_id": "4257028ac4b7420db7c16c56d05a08dc",
       "version_major": 2,
       "version_minor": 0
      },
      "text/plain": [
       "Downloading (…)nce_bert_config.json:   0%|          | 0.00/53.0 [00:00<?, ?B/s]"
      ]
     },
     "metadata": {},
     "output_type": "display_data"
    },
    {
     "data": {
      "application/vnd.jupyter.widget-view+json": {
       "model_id": "03230a44b647403595e21b993b9d8e1c",
       "version_major": 2,
       "version_minor": 0
      },
      "text/plain": [
       "Downloading (…)cial_tokens_map.json:   0%|          | 0.00/112 [00:00<?, ?B/s]"
      ]
     },
     "metadata": {},
     "output_type": "display_data"
    },
    {
     "data": {
      "application/vnd.jupyter.widget-view+json": {
       "model_id": "de9f273575734cc69d86d9dd55815822",
       "version_major": 2,
       "version_minor": 0
      },
      "text/plain": [
       "Downloading (…)e9125/tokenizer.json:   0%|          | 0.00/466k [00:00<?, ?B/s]"
      ]
     },
     "metadata": {},
     "output_type": "display_data"
    },
    {
     "data": {
      "application/vnd.jupyter.widget-view+json": {
       "model_id": "1d306f6585144fc88c3b35762287384d",
       "version_major": 2,
       "version_minor": 0
      },
      "text/plain": [
       "Downloading (…)okenizer_config.json:   0%|          | 0.00/350 [00:00<?, ?B/s]"
      ]
     },
     "metadata": {},
     "output_type": "display_data"
    },
    {
     "data": {
      "application/vnd.jupyter.widget-view+json": {
       "model_id": "f022aa5aad8045a1b55cde4ca013be96",
       "version_major": 2,
       "version_minor": 0
      },
      "text/plain": [
       "Downloading (…)9125/train_script.py:   0%|          | 0.00/13.2k [00:00<?, ?B/s]"
      ]
     },
     "metadata": {},
     "output_type": "display_data"
    },
    {
     "data": {
      "application/vnd.jupyter.widget-view+json": {
       "model_id": "a8562fdf25134f5f954174ac18468e09",
       "version_major": 2,
       "version_minor": 0
      },
      "text/plain": [
       "Downloading (…)7e55de9125/vocab.txt:   0%|          | 0.00/232k [00:00<?, ?B/s]"
      ]
     },
     "metadata": {},
     "output_type": "display_data"
    },
    {
     "data": {
      "application/vnd.jupyter.widget-view+json": {
       "model_id": "53f5635dc77447d3b6755e186ad34d58",
       "version_major": 2,
       "version_minor": 0
      },
      "text/plain": [
       "Downloading (…)5de9125/modules.json:   0%|          | 0.00/349 [00:00<?, ?B/s]"
      ]
     },
     "metadata": {},
     "output_type": "display_data"
    }
   ],
   "source": [
    "from langchain.embeddings import SentenceTransformerEmbeddings\n",
    "\n",
    "embeddings = SentenceTransformerEmbeddings(model_name=\"all-MiniLM-L6-v2\")\n"
   ]
  },
  {
   "cell_type": "code",
   "execution_count": 15,
   "id": "7ce11651",
   "metadata": {},
   "outputs": [
    {
     "name": "stdout",
     "output_type": "stream",
     "text": [
      "[-0.06346212327480316, 0.02823801524937153, -0.07319065928459167, -0.021612191572785378, 0.009010408073663712, 0.08805100619792938, 0.06272947788238525, -0.004149334039539099, 0.09318730980157852, 0.04524200037121773, 0.04247668758034706, -0.12884819507598877, 0.0968325212597847, 0.02140168286859989, 0.07114788889884949, 0.028274577111005783, -0.04897197335958481, 0.005612971261143684, 0.02405591867864132, -0.09868209064006805, -0.07075481116771698, 0.12195688486099243, 0.02155686728656292, -0.08134936541318893, 0.019616615027189255, -0.01841314695775509, 0.05684658885002136, -0.019129686057567596, 0.005043725948780775, -0.04349223151803017, 0.1327243447303772, -0.033263128250837326, -0.0005262185586616397, -0.006766991689801216, 0.03138674795627594, 0.0009007664048112929, -0.061287879943847656, 0.006254381034523249, 0.062368523329496384, -0.03608657419681549, -0.0074270921759307384, -0.059748321771621704, 0.008089656941592693, -0.033680520951747894, -0.01500774547457695, 0.044128984212875366, 0.0335010290145874, 0.025141915306448936, -0.021275373175740242, -0.05340846627950668, -0.03539211302995682, -0.07805376499891281, -0.006122360937297344, -0.0402032695710659, 0.13184231519699097, -0.10550297796726227, -0.04893958568572998, 0.018011145293712616, 0.017026497051119804, -0.11100219935178757, 0.0009480718872509897, 0.05836288630962372, 0.046693604439496994, -0.005443108733743429, -0.011966992169618607, -0.06148684024810791, -0.008043821901082993, 0.01515152957290411, 0.04502285644412041, -0.02295716293156147, -0.018304066732525826, -0.03971293568611145, 0.006604091729968786, -0.0007933235610835254, 0.0083850659430027, -0.08639350533485413, -0.003110224613919854, 0.020418591797351837, 0.009029614739120007, -0.06329721957445145, 0.006452186033129692, -0.0942031666636467, 0.0014387768460437655, -0.014826876111328602, 0.02991865761578083, -0.02943665161728859, 0.05373050272464752, -0.037969980388879776, -0.00878184475004673, 0.020532075315713882, 0.06451389193534851, 0.006506247911602259, 0.03280799835920334, 0.04300650954246521, -0.026016827672719955, -0.06270279735326767, 0.016302701085805893, 0.04197844862937927, -0.10455524176359177, 0.1819114089012146, 0.0016608305741101503, 0.07942495495080948, 0.04445537179708481, -0.039117250591516495, 0.016603166237473488, -0.024528421461582184, -0.0006719455122947693, 0.02340795285999775, -0.03289409726858139, -0.03358493000268936, -0.047987133264541626, -0.02853122167289257, -0.07393947243690491, -0.004563852213323116, 0.08414145559072495, -0.01757213845849037, 0.002670968882739544, 0.0629410371184349, -0.05975120887160301, -0.0004042353539261967, -0.0073230694979429245, 0.02152724750339985, -0.018304644152522087, 0.08728516101837158, -0.03597716987133026, 0.05844235420227051, -0.024489277973771095, -5.126725756569475e-34, 0.01829252392053604, -0.019624320790171623, -0.018097179010510445, 0.0008324364316649735, -0.016179807484149933, -0.002923416206613183, -0.011445024982094765, -0.0655970647931099, -0.059665147215127945, -0.04141249507665634, 0.02695067971944809, -0.06504005938768387, -0.057819996029138565, 0.035946074873209, 1.3775074876321014e-05, 0.03292323276400566, -0.14172594249248505, 0.004143731668591499, -0.006639231462031603, 0.009702798910439014, -0.007428745739161968, -0.0058709969744086266, 0.0587947741150856, 0.01845528557896614, 0.057234108448028564, -0.009389294311404228, 0.12211170792579651, -0.05993735045194626, 0.08933652937412262, 0.04889288917183876, 0.02144266664981842, -0.016761990264058113, -0.09184341877698898, -0.048147790133953094, -0.030460411682724953, -0.01738998293876648, -0.0627192035317421, -0.05241284519433975, -0.060899585485458374, -0.006334942765533924, 0.016414983198046684, -0.036780256778001785, -0.009111624211072922, 0.005194473545998335, -0.02790163643658161, -0.0037828381173312664, 0.00043849783833138645, 0.06401824206113815, 0.034013401716947556, 0.015695789828896523, -0.03494011610746384, -0.05055355653166771, 0.011765046045184135, -0.04325021803379059, -0.015410310588777065, -0.06376662850379944, 0.0129220737144351, 0.0505485013127327, 0.006404584273695946, 0.03118239715695381, -0.045194365084171295, -0.0038327660877257586, -0.08204539865255356, 0.021941613405942917, -0.013315711170434952, -0.08545056730508804, 0.06762868165969849, -0.021122058853507042, -0.06397076696157455, -0.09201404452323914, 0.03777185082435608, -0.04186692833900452, 0.11149963736534119, -0.0026737183798104525, -0.06393593549728394, -0.06339038163423538, 0.017167361453175545, -0.033977434039115906, -0.08801507204771042, 0.032278046011924744, -0.021308323368430138, 0.03850867971777916, 0.01818782649934292, -0.09730810672044754, -0.017440127208828926, 0.030128778889775276, 0.004621194209903479, -0.07529810816049576, -0.03172590956091881, 0.03677399456501007, -0.02623683400452137, -0.022766588255763054, 0.04422233626246452, 0.0030335148330777884, -0.059017978608608246, -8.723261499477504e-35, -0.06173936650156975, 0.07004698365926743, 0.0062356446869671345, 0.06707090139389038, 0.09338947385549545, -0.0036546674091368914, 0.07594189792871475, 0.07271720468997955, -0.008204472251236439, -0.05103382095694542, 0.0820646584033966, -0.02801496349275112, -7.084805838530883e-05, -0.005548177752643824, 0.04539072513580322, 0.030251674354076385, 0.04029376059770584, 0.009184595197439194, -0.040149085223674774, 0.033996183425188065, 0.03212408721446991, -0.04249776154756546, -0.03559093922376633, -0.025312373414635658, -0.015522974543273449, 0.10538140684366226, 0.052658483386039734, 0.07712054252624512, -0.11520785093307495, 0.013592507690191269, -0.01893363893032074, 0.05811990797519684, -0.04158024862408638, 0.021264417096972466, -0.10803833603858948, 0.029436657205224037, -0.05622628331184387, 0.09973917156457901, -0.016650306060910225, 0.09877984970808029, 0.036499425768852234, 0.09426708519458771, -0.06825447827577591, 0.06161466985940933, -0.0020135389640927315, -0.005699103698134422, -0.028672320768237114, 0.019747957587242126, 0.02755310945212841, -0.035267919301986694, -0.08414235711097717, 0.07826245576143265, 0.03175976127386093, -0.045277856290340424, 0.0498553030192852, 0.08984881639480591, -0.06133834272623062, 0.05018645524978638, 0.060041576623916626, 0.005005418322980404, -0.0547705739736557, 0.027357537299394608, 0.09634080529212952, 0.06560391187667847, -0.04144439846277237, 0.04911895468831062, 0.002204879419878125, -0.028422808274626732, 0.021070055663585663, -0.03743615373969078, 0.02620065212249756, -0.019798921421170235, -0.04157499969005585, -0.08276514708995819, -0.012091240845620632, 0.08470872044563293, -0.06768488883972168, 0.0891723707318306, -0.05865407735109329, -0.038072261959314346, 0.0026669802609831095, -0.03189410641789436, -0.06923721730709076, 0.04071779549121857, 0.04653751850128174, -0.013999980874359608, -0.006317943800240755, -0.044405411928892136, 0.07287552207708359, -0.0034407295752316713, -0.030042830854654312, -0.025177497416734695, 0.06735177338123322, -0.03241949528455734, 0.0489954799413681, -1.3065736936823669e-08, -0.09590277820825577, -0.0343383252620697, -0.006510515697300434, -0.018526434898376465, 0.07601500302553177, 0.0675346851348877, 0.013838857412338257, -0.043492935597896576, -0.03009531833231449, 0.04140235856175423, 0.032201990485191345, 0.040363892912864685, 0.008302563801407814, 0.03631773963570595, 0.05429907143115997, 0.023245159536600113, -0.06262136250734329, 0.021489618346095085, 0.01631852425634861, -0.03907917067408562, 0.05939091742038727, 0.023019902408123016, 0.05018074810504913, 0.016720209270715714, 0.05091972276568413, 0.07533898949623108, -0.03668913617730141, 0.025298744440078735, -0.04545116797089577, 0.03305418789386749, 0.007764785084873438, 0.11758456379175186, -0.08162260800600052, -0.04233163595199585, 0.021519670262932777, 0.01791885495185852, -0.011495210230350494, -0.020209001377224922, -0.052850641310214996, 0.07081238925457001, -0.08445620536804199, 0.0715775340795517, -0.023885954171419144, -0.004445728845894337, 0.0665806382894516, -0.013379608280956745, 0.01455460861325264, 0.0042336480692029, -0.041549235582351685, -0.014879784546792507, -0.009340010583400726, 0.04057224094867706, 0.05993923917412758, -0.0028452991973608732, -0.024475770071148872, 0.05576743185520172, -0.0470861978828907, -0.009026363492012024, -0.0422738753259182, -0.00233668927103281, 0.05573936551809311, -0.11384434252977371, 0.06714548915624619, -0.06608448177576065]\n",
      "384\n"
     ]
    }
   ],
   "source": [
    "query_result = embeddings.embed_query(\"Mohammed Shaneeb\")\n",
    "print(query_result)\n",
    "print(len(query_result))"
   ]
  },
  {
   "cell_type": "markdown",
   "id": "6bf59058",
   "metadata": {},
   "source": [
    "## Vector DB "
   ]
  },
  {
   "cell_type": "code",
   "execution_count": 17,
   "id": "a13b263b",
   "metadata": {
    "collapsed": true
   },
   "outputs": [
    {
     "name": "stdout",
     "output_type": "stream",
     "text": [
      "huggingface/tokenizers: The current process just got forked, after parallelism has already been used. Disabling parallelism to avoid deadlocks...\n",
      "To disable this warning, you can either:\n",
      "\t- Avoid using `tokenizers` before the fork if possible\n",
      "\t- Explicitly set the environment variable TOKENIZERS_PARALLELISM=(true | false)\n"
     ]
    }
   ],
   "source": [
    "!pip install tiktoken -q"
   ]
  },
  {
   "cell_type": "code",
   "execution_count": 16,
   "id": "b0d8d446",
   "metadata": {
    "collapsed": true
   },
   "outputs": [
    {
     "name": "stdout",
     "output_type": "stream",
     "text": [
      "huggingface/tokenizers: The current process just got forked, after parallelism has already been used. Disabling parallelism to avoid deadlocks...\n",
      "To disable this warning, you can either:\n",
      "\t- Avoid using `tokenizers` before the fork if possible\n",
      "\t- Explicitly set the environment variable TOKENIZERS_PARALLELISM=(true | false)\n"
     ]
    }
   ],
   "source": [
    "!pip install pinecone-client -q"
   ]
  },
  {
   "cell_type": "code",
   "execution_count": null,
   "id": "6f9444e4",
   "metadata": {},
   "outputs": [],
   "source": []
  },
  {
   "cell_type": "code",
   "execution_count": null,
   "id": "c67e8bea",
   "metadata": {},
   "outputs": [],
   "source": []
  },
  {
   "cell_type": "code",
   "execution_count": null,
   "id": "9d47e1f6",
   "metadata": {},
   "outputs": [],
   "source": []
  },
  {
   "cell_type": "code",
   "execution_count": null,
   "id": "becb90aa",
   "metadata": {},
   "outputs": [],
   "source": []
  },
  {
   "cell_type": "code",
   "execution_count": null,
   "id": "e2ef8438",
   "metadata": {},
   "outputs": [],
   "source": []
  },
  {
   "cell_type": "code",
   "execution_count": null,
   "id": "980ff72c",
   "metadata": {},
   "outputs": [],
   "source": []
  },
  {
   "cell_type": "code",
   "execution_count": null,
   "id": "30ef5536",
   "metadata": {},
   "outputs": [],
   "source": []
  },
  {
   "cell_type": "code",
   "execution_count": null,
   "id": "a8a5299a",
   "metadata": {},
   "outputs": [],
   "source": []
  },
  {
   "cell_type": "code",
   "execution_count": null,
   "id": "a23f7040",
   "metadata": {},
   "outputs": [],
   "source": []
  },
  {
   "cell_type": "code",
   "execution_count": null,
   "id": "d291ba21",
   "metadata": {},
   "outputs": [],
   "source": []
  }
 ],
 "metadata": {
  "kernelspec": {
   "display_name": "Python 3 (ipykernel)",
   "language": "python",
   "name": "python3"
  },
  "language_info": {
   "codemirror_mode": {
    "name": "ipython",
    "version": 3
   },
   "file_extension": ".py",
   "mimetype": "text/x-python",
   "name": "python",
   "nbconvert_exporter": "python",
   "pygments_lexer": "ipython3",
   "version": "3.9.17"
  }
 },
 "nbformat": 4,
 "nbformat_minor": 5
}
